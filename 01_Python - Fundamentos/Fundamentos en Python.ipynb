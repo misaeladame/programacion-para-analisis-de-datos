{
 "cells": [
  {
   "cell_type": "markdown",
   "metadata": {},
   "source": [
    "# Cadenas y operaciones básicas\n",
    "\n",
    "Se muestran las operaciones sobre cadenas: longitud, concatenación y replicación."
   ]
  },
  {
   "cell_type": "code",
   "execution_count": 17,
   "metadata": {},
   "outputs": [
    {
     "data": {
      "text/plain": [
       "'HOLA MUNDO'"
      ]
     },
     "execution_count": 17,
     "metadata": {},
     "output_type": "execute_result"
    }
   ],
   "source": [
    "cadena = 'HOLA MUNDO'\n",
    "cadena"
   ]
  },
  {
   "cell_type": "code",
   "execution_count": 18,
   "metadata": {},
   "outputs": [
    {
     "data": {
      "text/plain": [
       "'HOLA MUNDOHOLA MUNDOHOLA MUNDOHOLA MUNDOHOLA MUNDO'"
      ]
     },
     "execution_count": 18,
     "metadata": {},
     "output_type": "execute_result"
    }
   ],
   "source": [
    "#Replicacion\n",
    "cadena = 'HOLA MUNDO'\n",
    "cadena * 5"
   ]
  },
  {
   "cell_type": "code",
   "execution_count": 19,
   "metadata": {},
   "outputs": [
    {
     "data": {
      "text/plain": [
       "'HOLA MUNDO'"
      ]
     },
     "execution_count": 19,
     "metadata": {},
     "output_type": "execute_result"
    }
   ],
   "source": [
    "#Concatenacion\n",
    "cadena = 'HOLA ' + 'MUNDO'\n",
    "cadena"
   ]
  },
  {
   "cell_type": "code",
   "execution_count": 20,
   "metadata": {},
   "outputs": [
    {
     "ename": "TypeError",
     "evalue": "can't multiply sequence by non-int of type 'float'",
     "output_type": "error",
     "traceback": [
      "\u001b[1;31m---------------------------------------------------------------------------\u001b[0m",
      "\u001b[1;31mTypeError\u001b[0m                                 Traceback (most recent call last)",
      "\u001b[1;32m<ipython-input-20-7f903fb101be>\u001b[0m in \u001b[0;36m<module>\u001b[1;34m\u001b[0m\n\u001b[0;32m      1\u001b[0m \u001b[0mcadena\u001b[0m \u001b[1;33m=\u001b[0m \u001b[1;34m'HOLA '\u001b[0m \u001b[1;33m+\u001b[0m \u001b[1;34m'MUNDO'\u001b[0m\u001b[1;33m\u001b[0m\u001b[1;33m\u001b[0m\u001b[0m\n\u001b[1;32m----> 2\u001b[1;33m \u001b[0mcadena\u001b[0m \u001b[1;33m*\u001b[0m \u001b[1;36m5.0\u001b[0m\u001b[1;33m\u001b[0m\u001b[1;33m\u001b[0m\u001b[0m\n\u001b[0m",
      "\u001b[1;31mTypeError\u001b[0m: can't multiply sequence by non-int of type 'float'"
     ]
    }
   ],
   "source": [
    "cadena = 'HOLA ' + 'MUNDO'\n",
    "cadena * 5.0"
   ]
  },
  {
   "cell_type": "code",
   "execution_count": 21,
   "metadata": {},
   "outputs": [
    {
     "ename": "TypeError",
     "evalue": "can only concatenate str (not \"int\") to str",
     "output_type": "error",
     "traceback": [
      "\u001b[1;31m---------------------------------------------------------------------------\u001b[0m",
      "\u001b[1;31mTypeError\u001b[0m                                 Traceback (most recent call last)",
      "\u001b[1;32m<ipython-input-21-da515b5cd70c>\u001b[0m in \u001b[0;36m<module>\u001b[1;34m\u001b[0m\n\u001b[1;32m----> 1\u001b[1;33m \u001b[0medad\u001b[0m \u001b[1;33m=\u001b[0m \u001b[1;34m\"LA EDAD DE MARIOR ES = \"\u001b[0m \u001b[1;33m+\u001b[0m\u001b[1;36m64\u001b[0m\u001b[1;33m\u001b[0m\u001b[1;33m\u001b[0m\u001b[0m\n\u001b[0m\u001b[0;32m      2\u001b[0m \u001b[0medad\u001b[0m\u001b[1;33m\u001b[0m\u001b[1;33m\u001b[0m\u001b[0m\n",
      "\u001b[1;31mTypeError\u001b[0m: can only concatenate str (not \"int\") to str"
     ]
    }
   ],
   "source": [
    "edad = \"LA EDAD DE MARIOR ES = \" +64\n",
    "edad"
   ]
  },
  {
   "cell_type": "code",
   "execution_count": 22,
   "metadata": {},
   "outputs": [
    {
     "data": {
      "text/plain": [
       "'LA EDAD DE MARIOR ES = 64'"
      ]
     },
     "execution_count": 22,
     "metadata": {},
     "output_type": "execute_result"
    }
   ],
   "source": [
    "edad = \"LA EDAD DE MARIOR ES = \" +str(64)\n",
    "edad"
   ]
  },
  {
   "cell_type": "code",
   "execution_count": 23,
   "metadata": {},
   "outputs": [
    {
     "data": {
      "text/plain": [
       "25"
      ]
     },
     "execution_count": 23,
     "metadata": {},
     "output_type": "execute_result"
    }
   ],
   "source": [
    "#Longitud\n",
    "edad = \"LA EDAD DE MARIOR ES = \" +str(64)\n",
    "len(edad)"
   ]
  },
  {
   "cell_type": "markdown",
   "metadata": {},
   "source": [
    "# Enteros, Reales, Moldes Tipo Funcion\n",
    "\n",
    "Se muestran operaciones de conversión: int(), float(), Potenciación, Conversión de cadenas a enteros y reales. Operador de Potenciación, de Cociente y la división."
   ]
  },
  {
   "cell_type": "code",
   "execution_count": 24,
   "metadata": {},
   "outputs": [
    {
     "data": {
      "text/plain": [
       "20"
      ]
     },
     "execution_count": 24,
     "metadata": {},
     "output_type": "execute_result"
    }
   ],
   "source": [
    "int(20.456)"
   ]
  },
  {
   "cell_type": "code",
   "execution_count": 25,
   "metadata": {},
   "outputs": [
    {
     "data": {
      "text/plain": [
       "100"
      ]
     },
     "execution_count": 25,
     "metadata": {},
     "output_type": "execute_result"
    }
   ],
   "source": [
    "int('100')"
   ]
  },
  {
   "cell_type": "code",
   "execution_count": 26,
   "metadata": {},
   "outputs": [
    {
     "data": {
      "text/plain": [
       "19.3"
      ]
     },
     "execution_count": 26,
     "metadata": {},
     "output_type": "execute_result"
    }
   ],
   "source": [
    "float('19.3')"
   ]
  },
  {
   "cell_type": "code",
   "execution_count": 27,
   "metadata": {},
   "outputs": [
    {
     "data": {
      "text/plain": [
       "10.0"
      ]
     },
     "execution_count": 27,
     "metadata": {},
     "output_type": "execute_result"
    }
   ],
   "source": [
    "float(10)"
   ]
  },
  {
   "cell_type": "code",
   "execution_count": 28,
   "metadata": {},
   "outputs": [
    {
     "data": {
      "text/plain": [
       "1.0"
      ]
     },
     "execution_count": 28,
     "metadata": {},
     "output_type": "execute_result"
    }
   ],
   "source": [
    "x = 1 / 2 + 1 / 2\n",
    "x"
   ]
  },
  {
   "cell_type": "code",
   "execution_count": 29,
   "metadata": {},
   "outputs": [
    {
     "data": {
      "text/plain": [
       "0"
      ]
     },
     "execution_count": 29,
     "metadata": {},
     "output_type": "execute_result"
    }
   ],
   "source": [
    "x = 1 // 2 + 1 // 2\n",
    "x"
   ]
  },
  {
   "cell_type": "code",
   "execution_count": 30,
   "metadata": {},
   "outputs": [
    {
     "data": {
      "text/plain": [
       "10240000000000"
      ]
     },
     "execution_count": 30,
     "metadata": {},
     "output_type": "execute_result"
    }
   ],
   "source": [
    "# int(), float(), str(), len()\n",
    "x = 20 ** 10\n",
    "x"
   ]
  },
  {
   "cell_type": "markdown",
   "metadata": {},
   "source": [
    "# Otras expresiones de asignación\n",
    "\n",
    "Se muestran las expresiones de asignación que involucran a +=, -=, /=, //=, %="
   ]
  },
  {
   "cell_type": "code",
   "execution_count": 31,
   "metadata": {},
   "outputs": [
    {
     "data": {
      "text/plain": [
       "15"
      ]
     },
     "execution_count": 31,
     "metadata": {},
     "output_type": "execute_result"
    }
   ],
   "source": [
    "a = 10\n",
    "a += 5\n",
    "a"
   ]
  },
  {
   "cell_type": "code",
   "execution_count": 32,
   "metadata": {},
   "outputs": [
    {
     "data": {
      "text/plain": [
       "15"
      ]
     },
     "execution_count": 32,
     "metadata": {},
     "output_type": "execute_result"
    }
   ],
   "source": [
    "a = 10\n",
    "a = a + 5\n",
    "a"
   ]
  },
  {
   "cell_type": "code",
   "execution_count": 33,
   "metadata": {},
   "outputs": [
    {
     "data": {
      "text/plain": [
       "5"
      ]
     },
     "execution_count": 33,
     "metadata": {},
     "output_type": "execute_result"
    }
   ],
   "source": [
    "a = 10\n",
    "a -= 5\n",
    "a"
   ]
  },
  {
   "cell_type": "code",
   "execution_count": 34,
   "metadata": {},
   "outputs": [
    {
     "data": {
      "text/plain": [
       "50"
      ]
     },
     "execution_count": 34,
     "metadata": {},
     "output_type": "execute_result"
    }
   ],
   "source": [
    "a = 10\n",
    "a *= 5\n",
    "a"
   ]
  },
  {
   "cell_type": "code",
   "execution_count": 35,
   "metadata": {},
   "outputs": [
    {
     "data": {
      "text/plain": [
       "3.3333333333333335"
      ]
     },
     "execution_count": 35,
     "metadata": {},
     "output_type": "execute_result"
    }
   ],
   "source": [
    "a = 10\n",
    "a /= 3\n",
    "a"
   ]
  },
  {
   "cell_type": "code",
   "execution_count": 36,
   "metadata": {},
   "outputs": [
    {
     "data": {
      "text/plain": [
       "3"
      ]
     },
     "execution_count": 36,
     "metadata": {},
     "output_type": "execute_result"
    }
   ],
   "source": [
    "a = 10\n",
    "a //= 3\n",
    "a"
   ]
  },
  {
   "cell_type": "code",
   "execution_count": 37,
   "metadata": {},
   "outputs": [
    {
     "data": {
      "text/plain": [
       "2"
      ]
     },
     "execution_count": 37,
     "metadata": {},
     "output_type": "execute_result"
    }
   ],
   "source": [
    "a = 10\n",
    "a %= 4\n",
    "a"
   ]
  },
  {
   "cell_type": "code",
   "execution_count": 38,
   "metadata": {},
   "outputs": [
    {
     "data": {
      "text/plain": [
       "2"
      ]
     },
     "execution_count": 38,
     "metadata": {},
     "output_type": "execute_result"
    }
   ],
   "source": [
    "10 % 4"
   ]
  },
  {
   "cell_type": "code",
   "execution_count": 39,
   "metadata": {},
   "outputs": [
    {
     "ename": "SyntaxError",
     "evalue": "invalid syntax (<ipython-input-39-2cd26ad96929>, line 3)",
     "output_type": "error",
     "traceback": [
      "\u001b[1;36m  File \u001b[1;32m\"<ipython-input-39-2cd26ad96929>\"\u001b[1;36m, line \u001b[1;32m3\u001b[0m\n\u001b[1;33m    a++\u001b[0m\n\u001b[1;37m       ^\u001b[0m\n\u001b[1;31mSyntaxError\u001b[0m\u001b[1;31m:\u001b[0m invalid syntax\n"
     ]
    }
   ],
   "source": [
    "#No existe a++\n",
    "a = 10\n",
    "a++\n",
    "a"
   ]
  },
  {
   "cell_type": "markdown",
   "metadata": {},
   "source": [
    "# Algo más de cadenas, booleans y el Tipo None\n",
    "\n",
    "Se muestran algunas características del tipo str, del tipo bool y del tipo None"
   ]
  },
  {
   "cell_type": "code",
   "execution_count": 40,
   "metadata": {},
   "outputs": [
    {
     "data": {
      "text/plain": [
       "'hola mundo'"
      ]
     },
     "execution_count": 40,
     "metadata": {},
     "output_type": "execute_result"
    }
   ],
   "source": [
    "cadena = \"hola mundo\"\n",
    "cadena"
   ]
  },
  {
   "cell_type": "code",
   "execution_count": 41,
   "metadata": {},
   "outputs": [
    {
     "data": {
      "text/plain": [
       "'o'"
      ]
     },
     "execution_count": 41,
     "metadata": {},
     "output_type": "execute_result"
    }
   ],
   "source": [
    "cadena = \"hola mundo\"\n",
    "cadena[1]"
   ]
  },
  {
   "cell_type": "code",
   "execution_count": 42,
   "metadata": {},
   "outputs": [
    {
     "data": {
      "text/plain": [
       "'u'"
      ]
     },
     "execution_count": 42,
     "metadata": {},
     "output_type": "execute_result"
    }
   ],
   "source": [
    "cadena = \"hola mundo\"\n",
    "cadena[6]"
   ]
  },
  {
   "cell_type": "code",
   "execution_count": 43,
   "metadata": {},
   "outputs": [
    {
     "ename": "TypeError",
     "evalue": "'str' object does not support item assignment",
     "output_type": "error",
     "traceback": [
      "\u001b[1;31m---------------------------------------------------------------------------\u001b[0m",
      "\u001b[1;31mTypeError\u001b[0m                                 Traceback (most recent call last)",
      "\u001b[1;32m<ipython-input-43-f284e3fa7bec>\u001b[0m in \u001b[0;36m<module>\u001b[1;34m\u001b[0m\n\u001b[0;32m      1\u001b[0m \u001b[0mcadena\u001b[0m \u001b[1;33m=\u001b[0m \u001b[1;34m\"hola mundo\"\u001b[0m\u001b[1;33m\u001b[0m\u001b[1;33m\u001b[0m\u001b[0m\n\u001b[1;32m----> 2\u001b[1;33m \u001b[0mcadena\u001b[0m\u001b[1;33m[\u001b[0m\u001b[1;36m1\u001b[0m\u001b[1;33m]\u001b[0m \u001b[1;33m=\u001b[0m \u001b[1;34m'O'\u001b[0m\u001b[1;33m\u001b[0m\u001b[1;33m\u001b[0m\u001b[0m\n\u001b[0m",
      "\u001b[1;31mTypeError\u001b[0m: 'str' object does not support item assignment"
     ]
    }
   ],
   "source": [
    "cadena = \"hola mundo\"\n",
    "cadena[1] = 'O'"
   ]
  },
  {
   "cell_type": "code",
   "execution_count": 44,
   "metadata": {},
   "outputs": [
    {
     "data": {
      "text/plain": [
       "'\\n    HOLA MUNDO\\n    COMO ESTAN TODOS\\n    ETCETERA\\n    '"
      ]
     },
     "execution_count": 44,
     "metadata": {},
     "output_type": "execute_result"
    }
   ],
   "source": [
    "x = \"\"\"\n",
    "    HOLA MUNDO\n",
    "    COMO ESTAN TODOS\n",
    "    ETCETERA\n",
    "    \"\"\"\n",
    "x"
   ]
  },
  {
   "cell_type": "code",
   "execution_count": 45,
   "metadata": {},
   "outputs": [
    {
     "data": {
      "text/plain": [
       "False"
      ]
     },
     "execution_count": 45,
     "metadata": {},
     "output_type": "execute_result"
    }
   ],
   "source": [
    "bool(0)"
   ]
  },
  {
   "cell_type": "code",
   "execution_count": 46,
   "metadata": {},
   "outputs": [
    {
     "data": {
      "text/plain": [
       "True"
      ]
     },
     "execution_count": 46,
     "metadata": {},
     "output_type": "execute_result"
    }
   ],
   "source": [
    "bool(1)"
   ]
  },
  {
   "cell_type": "code",
   "execution_count": 47,
   "metadata": {},
   "outputs": [
    {
     "data": {
      "text/plain": [
       "True"
      ]
     },
     "execution_count": 47,
     "metadata": {},
     "output_type": "execute_result"
    }
   ],
   "source": [
    "bool(10)"
   ]
  },
  {
   "cell_type": "code",
   "execution_count": 48,
   "metadata": {},
   "outputs": [
    {
     "data": {
      "text/plain": [
       "False"
      ]
     },
     "execution_count": 48,
     "metadata": {},
     "output_type": "execute_result"
    }
   ],
   "source": [
    "bool(0.0)"
   ]
  },
  {
   "cell_type": "code",
   "execution_count": 49,
   "metadata": {},
   "outputs": [
    {
     "data": {
      "text/plain": [
       "True"
      ]
     },
     "execution_count": 49,
     "metadata": {},
     "output_type": "execute_result"
    }
   ],
   "source": [
    "bool(3.1416)"
   ]
  },
  {
   "cell_type": "code",
   "execution_count": 50,
   "metadata": {},
   "outputs": [
    {
     "data": {
      "text/plain": [
       "False"
      ]
     },
     "execution_count": 50,
     "metadata": {},
     "output_type": "execute_result"
    }
   ],
   "source": [
    "bool(\"\")"
   ]
  },
  {
   "cell_type": "code",
   "execution_count": 51,
   "metadata": {},
   "outputs": [
    {
     "data": {
      "text/plain": [
       "True"
      ]
     },
     "execution_count": 51,
     "metadata": {},
     "output_type": "execute_result"
    }
   ],
   "source": [
    "bool(\"HOLA MUNDO\")"
   ]
  },
  {
   "cell_type": "code",
   "execution_count": 52,
   "metadata": {},
   "outputs": [
    {
     "data": {
      "text/plain": [
       "str"
      ]
     },
     "execution_count": 52,
     "metadata": {},
     "output_type": "execute_result"
    }
   ],
   "source": [
    "a = 'HOLA'\n",
    "type(a)"
   ]
  },
  {
   "cell_type": "code",
   "execution_count": 53,
   "metadata": {},
   "outputs": [
    {
     "data": {
      "text/plain": [
       "int"
      ]
     },
     "execution_count": 53,
     "metadata": {},
     "output_type": "execute_result"
    }
   ],
   "source": [
    "a = 10\n",
    "type(a)"
   ]
  },
  {
   "cell_type": "code",
   "execution_count": 54,
   "metadata": {},
   "outputs": [
    {
     "data": {
      "text/plain": [
       "float"
      ]
     },
     "execution_count": 54,
     "metadata": {},
     "output_type": "execute_result"
    }
   ],
   "source": [
    "a = 3.1416\n",
    "type(a)"
   ]
  },
  {
   "cell_type": "code",
   "execution_count": 55,
   "metadata": {},
   "outputs": [
    {
     "data": {
      "text/plain": [
       "NoneType"
      ]
     },
     "execution_count": 55,
     "metadata": {},
     "output_type": "execute_result"
    }
   ],
   "source": [
    "a = None\n",
    "type(a)"
   ]
  },
  {
   "cell_type": "code",
   "execution_count": 56,
   "metadata": {},
   "outputs": [
    {
     "data": {
      "text/plain": [
       "True"
      ]
     },
     "execution_count": 56,
     "metadata": {},
     "output_type": "execute_result"
    }
   ],
   "source": [
    "a is None"
   ]
  },
  {
   "cell_type": "code",
   "execution_count": 57,
   "metadata": {},
   "outputs": [
    {
     "data": {
      "text/plain": [
       "False"
      ]
     },
     "execution_count": 57,
     "metadata": {},
     "output_type": "execute_result"
    }
   ],
   "source": [
    "a is not None"
   ]
  },
  {
   "cell_type": "code",
   "execution_count": 58,
   "metadata": {},
   "outputs": [
    {
     "ename": "NameError",
     "evalue": "name 'b' is not defined",
     "output_type": "error",
     "traceback": [
      "\u001b[1;31m---------------------------------------------------------------------------\u001b[0m",
      "\u001b[1;31mNameError\u001b[0m                                 Traceback (most recent call last)",
      "\u001b[1;32m<ipython-input-58-eeadcaeab874>\u001b[0m in \u001b[0;36m<module>\u001b[1;34m\u001b[0m\n\u001b[1;32m----> 1\u001b[1;33m \u001b[0ma\u001b[0m \u001b[1;33m==\u001b[0m \u001b[0mb\u001b[0m\u001b[1;33m\u001b[0m\u001b[1;33m\u001b[0m\u001b[0m\n\u001b[0m",
      "\u001b[1;31mNameError\u001b[0m: name 'b' is not defined"
     ]
    }
   ],
   "source": [
    "a == b"
   ]
  },
  {
   "cell_type": "code",
   "execution_count": 59,
   "metadata": {},
   "outputs": [],
   "source": [
    "b = None"
   ]
  },
  {
   "cell_type": "code",
   "execution_count": 60,
   "metadata": {},
   "outputs": [],
   "source": [
    "a"
   ]
  },
  {
   "cell_type": "code",
   "execution_count": 61,
   "metadata": {},
   "outputs": [
    {
     "data": {
      "text/plain": [
       "True"
      ]
     },
     "execution_count": 61,
     "metadata": {},
     "output_type": "execute_result"
    }
   ],
   "source": [
    "a == b"
   ]
  },
  {
   "cell_type": "markdown",
   "metadata": {},
   "source": [
    "# TIPOS str y bytes\n",
    "\n",
    "Explicación de los tipos str y bytes. Cadenas Unicode y cadenas bytes"
   ]
  },
  {
   "cell_type": "code",
   "execution_count": 62,
   "metadata": {},
   "outputs": [
    {
     "data": {
      "text/plain": [
       "'español tiene la ñ'"
      ]
     },
     "execution_count": 62,
     "metadata": {},
     "output_type": "execute_result"
    }
   ],
   "source": [
    "# str bytes  Unicode\n",
    "idioma = 'español tiene la ñ'\n",
    "idioma"
   ]
  },
  {
   "cell_type": "code",
   "execution_count": 63,
   "metadata": {},
   "outputs": [
    {
     "data": {
      "text/plain": [
       "b'espa\\xc3\\xb1ol tiene la \\xc3\\xb1'"
      ]
     },
     "execution_count": 63,
     "metadata": {},
     "output_type": "execute_result"
    }
   ],
   "source": [
    "idioma_utf8 = idioma.encode('utf-8')\n",
    "idioma_utf8"
   ]
  },
  {
   "cell_type": "code",
   "execution_count": 64,
   "metadata": {},
   "outputs": [
    {
     "data": {
      "text/plain": [
       "bytes"
      ]
     },
     "execution_count": 64,
     "metadata": {},
     "output_type": "execute_result"
    }
   ],
   "source": [
    "type(idioma_utf8)"
   ]
  },
  {
   "cell_type": "code",
   "execution_count": 65,
   "metadata": {},
   "outputs": [
    {
     "data": {
      "text/plain": [
       "str"
      ]
     },
     "execution_count": 65,
     "metadata": {},
     "output_type": "execute_result"
    }
   ],
   "source": [
    "type(idioma)"
   ]
  },
  {
   "cell_type": "code",
   "execution_count": 66,
   "metadata": {},
   "outputs": [
    {
     "data": {
      "text/plain": [
       "'español tiene la ñ'"
      ]
     },
     "execution_count": 66,
     "metadata": {},
     "output_type": "execute_result"
    }
   ],
   "source": [
    "idioma_utf8.decode('utf-8')"
   ]
  },
  {
   "cell_type": "code",
   "execution_count": 67,
   "metadata": {},
   "outputs": [
    {
     "data": {
      "text/plain": [
       "b'estos son bytes'"
      ]
     },
     "execution_count": 67,
     "metadata": {},
     "output_type": "execute_result"
    }
   ],
   "source": [
    "idioma_bytes = b'estos son bytes'\n",
    "idioma_bytes"
   ]
  },
  {
   "cell_type": "code",
   "execution_count": 68,
   "metadata": {},
   "outputs": [
    {
     "data": {
      "text/plain": [
       "bytes"
      ]
     },
     "execution_count": 68,
     "metadata": {},
     "output_type": "execute_result"
    }
   ],
   "source": [
    "type(idioma_bytes)"
   ]
  },
  {
   "cell_type": "code",
   "execution_count": 69,
   "metadata": {},
   "outputs": [
    {
     "data": {
      "text/plain": [
       "'estos son bytes'"
      ]
     },
     "execution_count": 69,
     "metadata": {},
     "output_type": "execute_result"
    }
   ],
   "source": [
    "stringUnicode = idioma_bytes.decode('utf-8')\n",
    "stringUnicode"
   ]
  },
  {
   "cell_type": "code",
   "execution_count": 70,
   "metadata": {},
   "outputs": [
    {
     "data": {
      "text/plain": [
       "str"
      ]
     },
     "execution_count": 70,
     "metadata": {},
     "output_type": "execute_result"
    }
   ],
   "source": [
    "type(stringUnicode)"
   ]
  },
  {
   "cell_type": "markdown",
   "metadata": {},
   "source": [
    "# Expresión ternaria\n",
    "\n",
    "Se muestra la sintaxis y el uso de la expresión ternaria"
   ]
  },
  {
   "cell_type": "markdown",
   "metadata": {},
   "source": [
    "Sintaxis: valor1 if condicion else valor2"
   ]
  },
  {
   "cell_type": "code",
   "execution_count": 71,
   "metadata": {},
   "outputs": [
    {
     "data": {
      "text/plain": [
       "20"
      ]
     },
     "execution_count": 71,
     "metadata": {},
     "output_type": "execute_result"
    }
   ],
   "source": [
    "x = -20\n",
    "x = -x if x < 0 else 2 * x\n",
    "x"
   ]
  },
  {
   "cell_type": "code",
   "execution_count": 72,
   "metadata": {},
   "outputs": [
    {
     "data": {
      "text/plain": [
       "20"
      ]
     },
     "execution_count": 72,
     "metadata": {},
     "output_type": "execute_result"
    }
   ],
   "source": [
    "x = 10\n",
    "x = -x if x < 0 else 2 * x\n",
    "x"
   ]
  },
  {
   "cell_type": "markdown",
   "metadata": {},
   "source": [
    "# El Tipo datetime\n",
    "\n",
    "Fundamentos para el manejo de fechas tiempo, uso del módulo datetime que contiene los tipos datetime, date y time"
   ]
  },
  {
   "cell_type": "code",
   "execution_count": 73,
   "metadata": {},
   "outputs": [],
   "source": [
    "from datetime import datetime, date, time"
   ]
  },
  {
   "cell_type": "code",
   "execution_count": 74,
   "metadata": {},
   "outputs": [],
   "source": [
    "fecha = datetime(2020,1,10,15,38,45)"
   ]
  },
  {
   "cell_type": "code",
   "execution_count": 75,
   "metadata": {},
   "outputs": [
    {
     "data": {
      "text/plain": [
       "2020"
      ]
     },
     "execution_count": 75,
     "metadata": {},
     "output_type": "execute_result"
    }
   ],
   "source": [
    "fecha.year"
   ]
  },
  {
   "cell_type": "code",
   "execution_count": 76,
   "metadata": {},
   "outputs": [
    {
     "data": {
      "text/plain": [
       "1"
      ]
     },
     "execution_count": 76,
     "metadata": {},
     "output_type": "execute_result"
    }
   ],
   "source": [
    "fecha.month"
   ]
  },
  {
   "cell_type": "code",
   "execution_count": 77,
   "metadata": {},
   "outputs": [
    {
     "data": {
      "text/plain": [
       "10"
      ]
     },
     "execution_count": 77,
     "metadata": {},
     "output_type": "execute_result"
    }
   ],
   "source": [
    "fecha.day"
   ]
  },
  {
   "cell_type": "code",
   "execution_count": 78,
   "metadata": {},
   "outputs": [
    {
     "data": {
      "text/plain": [
       "15"
      ]
     },
     "execution_count": 78,
     "metadata": {},
     "output_type": "execute_result"
    }
   ],
   "source": [
    "fecha.hour"
   ]
  },
  {
   "cell_type": "code",
   "execution_count": 79,
   "metadata": {},
   "outputs": [
    {
     "data": {
      "text/plain": [
       "38"
      ]
     },
     "execution_count": 79,
     "metadata": {},
     "output_type": "execute_result"
    }
   ],
   "source": [
    "fecha.minute"
   ]
  },
  {
   "cell_type": "code",
   "execution_count": 80,
   "metadata": {},
   "outputs": [
    {
     "data": {
      "text/plain": [
       "45"
      ]
     },
     "execution_count": 80,
     "metadata": {},
     "output_type": "execute_result"
    }
   ],
   "source": [
    "fecha.second"
   ]
  },
  {
   "cell_type": "code",
   "execution_count": 81,
   "metadata": {},
   "outputs": [
    {
     "data": {
      "text/plain": [
       "datetime.date(2020, 1, 10)"
      ]
     },
     "execution_count": 81,
     "metadata": {},
     "output_type": "execute_result"
    }
   ],
   "source": [
    "fecha.date()"
   ]
  },
  {
   "cell_type": "code",
   "execution_count": 82,
   "metadata": {},
   "outputs": [
    {
     "data": {
      "text/plain": [
       "datetime.time(15, 38, 45)"
      ]
     },
     "execution_count": 82,
     "metadata": {},
     "output_type": "execute_result"
    }
   ],
   "source": [
    "fecha.time()"
   ]
  },
  {
   "cell_type": "code",
   "execution_count": 83,
   "metadata": {},
   "outputs": [
    {
     "data": {
      "text/plain": [
       "datetime.datetime(2020, 1, 10, 15, 38, 45)"
      ]
     },
     "execution_count": 83,
     "metadata": {},
     "output_type": "execute_result"
    }
   ],
   "source": [
    "fecha"
   ]
  },
  {
   "cell_type": "code",
   "execution_count": 84,
   "metadata": {},
   "outputs": [
    {
     "data": {
      "text/plain": [
       "'10/01/2020 15:38'"
      ]
     },
     "execution_count": 84,
     "metadata": {},
     "output_type": "execute_result"
    }
   ],
   "source": [
    "fecha.strftime('%d/%m/%Y %H:%M')"
   ]
  },
  {
   "cell_type": "code",
   "execution_count": 85,
   "metadata": {},
   "outputs": [
    {
     "data": {
      "text/plain": [
       "datetime.datetime(2020, 1, 10, 0, 0)"
      ]
     },
     "execution_count": 85,
     "metadata": {},
     "output_type": "execute_result"
    }
   ],
   "source": [
    "datetime.strptime('20200110', '%Y%m%d')"
   ]
  },
  {
   "cell_type": "code",
   "execution_count": 86,
   "metadata": {},
   "outputs": [
    {
     "data": {
      "text/plain": [
       "datetime.datetime(2020, 1, 10, 15, 0)"
      ]
     },
     "execution_count": 86,
     "metadata": {},
     "output_type": "execute_result"
    }
   ],
   "source": [
    "fecha.replace(minute=0, second=0)"
   ]
  },
  {
   "cell_type": "code",
   "execution_count": 87,
   "metadata": {},
   "outputs": [],
   "source": [
    "fecha2 = datetime(2020, 1, 20, 12, 40, 12)"
   ]
  },
  {
   "cell_type": "code",
   "execution_count": 88,
   "metadata": {},
   "outputs": [
    {
     "data": {
      "text/plain": [
       "datetime.timedelta(days=9, seconds=75687)"
      ]
     },
     "execution_count": 88,
     "metadata": {},
     "output_type": "execute_result"
    }
   ],
   "source": [
    "intervalo = fecha2 - fecha\n",
    "intervalo"
   ]
  },
  {
   "cell_type": "code",
   "execution_count": 89,
   "metadata": {},
   "outputs": [
    {
     "data": {
      "text/plain": [
       "datetime.timedelta"
      ]
     },
     "execution_count": 89,
     "metadata": {},
     "output_type": "execute_result"
    }
   ],
   "source": [
    "type(intervalo)"
   ]
  },
  {
   "cell_type": "code",
   "execution_count": 90,
   "metadata": {},
   "outputs": [
    {
     "data": {
      "text/plain": [
       "datetime.datetime(2020, 1, 10, 15, 38, 45)"
      ]
     },
     "execution_count": 90,
     "metadata": {},
     "output_type": "execute_result"
    }
   ],
   "source": [
    "fecha"
   ]
  },
  {
   "cell_type": "code",
   "execution_count": 91,
   "metadata": {},
   "outputs": [
    {
     "data": {
      "text/plain": [
       "datetime.datetime(2020, 1, 20, 12, 40, 12)"
      ]
     },
     "execution_count": 91,
     "metadata": {},
     "output_type": "execute_result"
    }
   ],
   "source": [
    "fecha + intervalo"
   ]
  },
  {
   "cell_type": "markdown",
   "metadata": {},
   "source": [
    "# ENTRADA Y SALIDA\n",
    "\n",
    "USO DE LAS SENTENCIAS input() Y print() PARA ENTRADA Y SALIDA DE DATOS"
   ]
  },
  {
   "cell_type": "code",
   "execution_count": 92,
   "metadata": {},
   "outputs": [
    {
     "name": "stdout",
     "output_type": "stream",
     "text": [
      "TECLEA UN ENTERO : \n",
      "4\n",
      "TECLEA OTRO ENTERO : \n",
      "3\n"
     ]
    },
    {
     "ename": "TypeError",
     "evalue": "unsupported operand type(s) for -: 'str' and 'str'",
     "output_type": "error",
     "traceback": [
      "\u001b[1;31m---------------------------------------------------------------------------\u001b[0m",
      "\u001b[1;31mTypeError\u001b[0m                                 Traceback (most recent call last)",
      "\u001b[1;32m<ipython-input-92-7904f2641d5f>\u001b[0m in \u001b[0;36m<module>\u001b[1;34m\u001b[0m\n\u001b[0;32m      5\u001b[0m \u001b[0my\u001b[0m \u001b[1;33m=\u001b[0m \u001b[0minput\u001b[0m\u001b[1;33m(\u001b[0m\u001b[1;33m)\u001b[0m\u001b[1;33m\u001b[0m\u001b[1;33m\u001b[0m\u001b[0m\n\u001b[0;32m      6\u001b[0m \u001b[0msuma\u001b[0m \u001b[1;33m=\u001b[0m \u001b[0mx\u001b[0m \u001b[1;33m+\u001b[0m \u001b[0my\u001b[0m\u001b[1;33m\u001b[0m\u001b[1;33m\u001b[0m\u001b[0m\n\u001b[1;32m----> 7\u001b[1;33m \u001b[0mresta\u001b[0m \u001b[1;33m=\u001b[0m \u001b[0mx\u001b[0m \u001b[1;33m-\u001b[0m \u001b[0my\u001b[0m\u001b[1;33m\u001b[0m\u001b[1;33m\u001b[0m\u001b[0m\n\u001b[0m\u001b[0;32m      8\u001b[0m \u001b[0mprint\u001b[0m\u001b[1;33m(\u001b[0m\u001b[1;34m\"LA SUMA DE LOS DOS NÚMEROS LEÍDOS = \"\u001b[0m\u001b[1;33m,\u001b[0m \u001b[0msuma\u001b[0m\u001b[1;33m)\u001b[0m\u001b[1;33m\u001b[0m\u001b[1;33m\u001b[0m\u001b[0m\n\u001b[0;32m      9\u001b[0m \u001b[0mprint\u001b[0m\u001b[1;33m(\u001b[0m\u001b[1;34m\"LA RESTA DE LOS DOS NÚMEROS LEÍDOS = \"\u001b[0m\u001b[1;33m,\u001b[0m \u001b[0mresta\u001b[0m\u001b[1;33m)\u001b[0m\u001b[1;33m\u001b[0m\u001b[1;33m\u001b[0m\u001b[0m\n",
      "\u001b[1;31mTypeError\u001b[0m: unsupported operand type(s) for -: 'str' and 'str'"
     ]
    }
   ],
   "source": [
    "# LEER DOS NÚMEROS ENTEROS Y CALCULAR Y VISUALIZAR LA SUMA DE ELLOS Y LA RESTA DE ELLOS\n",
    "print(\"TECLEA UN ENTERO : \")\n",
    "x = input()\n",
    "print(\"TECLEA OTRO ENTERO : \")\n",
    "y = input()\n",
    "suma = x + y\n",
    "resta = x - y\n",
    "print(\"LA SUMA DE LOS DOS NÚMEROS LEÍDOS = \", suma)\n",
    "print(\"LA RESTA DE LOS DOS NÚMEROS LEÍDOS = \", resta)"
   ]
  },
  {
   "cell_type": "code",
   "execution_count": 94,
   "metadata": {},
   "outputs": [
    {
     "name": "stdout",
     "output_type": "stream",
     "text": [
      "TECLEA UN ENTERO : \n",
      "8\n",
      "TECLEA OTRO ENTERO : \n",
      "5\n",
      "LA SUMA DE LOS DOS NÚMEROS LEÍDOS =  13\n",
      "LA RESTA DE LOS DOS NÚMEROS LEÍDOS =  3\n"
     ]
    }
   ],
   "source": [
    "# LEER DOS NÚMEROS ENTEROS Y CALCULAR Y VISUALIZAR LA SUMA DE ELLOS Y LA RESTA DE ELLOS\n",
    "print(\"TECLEA UN ENTERO : \")\n",
    "x = input()\n",
    "print(\"TECLEA OTRO ENTERO : \")\n",
    "y = input()\n",
    "suma = int(x) + int(y)\n",
    "resta = int(x) - int(y)\n",
    "print(\"LA SUMA DE LOS DOS NÚMEROS LEÍDOS = \", suma)\n",
    "print(\"LA RESTA DE LOS DOS NÚMEROS LEÍDOS = \", resta)"
   ]
  },
  {
   "cell_type": "code",
   "execution_count": 95,
   "metadata": {},
   "outputs": [
    {
     "name": "stdout",
     "output_type": "stream",
     "text": [
      "TECLEA UN ENTERO : \n",
      "9\n",
      "TECLEA OTRO ENTERO : \n",
      "4\n",
      "LA SUMA DE LOS DOS NÚMEROS LEÍDOS =  13\n",
      "LA RESTA DE LOS DOS NÚMEROS LEÍDOS =  5\n"
     ]
    }
   ],
   "source": [
    "# LEER DOS NÚMEROS ENTEROS Y CALCULAR Y VISUALIZAR LA SUMA DE ELLOS Y LA RESTA DE ELLOS\n",
    "print(\"TECLEA UN ENTERO : \")\n",
    "x = int(input())\n",
    "print(\"TECLEA OTRO ENTERO : \")\n",
    "y = int(input())\n",
    "suma = x + y\n",
    "resta = x - y\n",
    "print(\"LA SUMA DE LOS DOS NÚMEROS LEÍDOS = \", suma)\n",
    "print(\"LA RESTA DE LOS DOS NÚMEROS LEÍDOS = \", resta)"
   ]
  },
  {
   "cell_type": "code",
   "execution_count": 96,
   "metadata": {},
   "outputs": [
    {
     "name": "stdout",
     "output_type": "stream",
     "text": [
      "TECLEA UN ENTERO : \n",
      "4\n",
      "TECLEA OTRO ENTERO : \n",
      "2\n",
      "LA SUMA DE 4 + 2 = 6\n",
      "LA RESTA DE 4 - 2 = 2\n"
     ]
    }
   ],
   "source": [
    "# LEER DOS NÚMEROS ENTEROS Y CALCULAR Y VISUALIZAR LA SUMA DE ELLOS Y LA RESTA DE ELLOS\n",
    "print(\"TECLEA UN ENTERO : \")\n",
    "x = int(input())\n",
    "print(\"TECLEA OTRO ENTERO : \")\n",
    "y = int(input())\n",
    "suma = x + y\n",
    "resta = x - y\n",
    "                 # x:int   y:int  suma:int \n",
    "print(\"LA SUMA DE {0:d} + {1:d} = {2:d}\".format(x,y,suma))\n",
    "print(\"LA RESTA DE {0:d} - {1:d} = {2:d}\".format(x,y,resta))"
   ]
  },
  {
   "cell_type": "markdown",
   "metadata": {},
   "source": [
    "# SELECCION\n",
    "\n",
    "PRESENTAMOS EL if DE UNA RAMA, EJERCICIO QUE LEE UN ENTERO Y MUESTRA SI ES DIVISIBLE POR 5 O POR 3"
   ]
  },
  {
   "cell_type": "code",
   "execution_count": 98,
   "metadata": {},
   "outputs": [
    {
     "name": "stdout",
     "output_type": "stream",
     "text": [
      "Ingresa un número entero : \n",
      "15\n",
      "EL ENTERO x = 15 es divisible por 5\n",
      "VEREMOS SI ES DIVISIBLE POR 3 ... \n",
      "\n",
      "\n",
      "EL ENTERO x = 15 es divisible por 3\n",
      "RESULTÓ QUE FUE DIVISIBLE POR 3\n"
     ]
    }
   ],
   "source": [
    "print('Ingresa un número entero : ')\n",
    "x = int(input())\n",
    "if x % 5 == 0:\n",
    "    print(\"EL ENTERO x = \" +str(x) +' es divisible por 5')\n",
    "    print(\"VEREMOS SI ES DIVISIBLE POR 3 ... \\n\\n\")\n",
    "if x % 3 == 0:\n",
    "    print(\"EL ENTERO x = \" +str(x) +' es divisible por 3')\n",
    "    print('RESULTÓ QUE FUE DIVISIBLE POR 3')\n",
    "# FIN DEL PROGRAMA"
   ]
  },
  {
   "cell_type": "markdown",
   "metadata": {},
   "source": [
    "### SE EFECTUAN CONSIDERACIONES DE USAR EL OPERADOR or O EL OPERADOR and PARA LA SOLUCIÓN DEL EJERCICIO DEL NÚMERO DIVISIBLE POR 5 O POR 3"
   ]
  },
  {
   "cell_type": "code",
   "execution_count": 100,
   "metadata": {},
   "outputs": [
    {
     "name": "stdout",
     "output_type": "stream",
     "text": [
      "Ingresa un número entero : \n",
      "5\n",
      "EL NÚMERO ES DIVISIBLE POR 5 O POR 3 O POR LOS DOS ....\n"
     ]
    }
   ],
   "source": [
    "print('Ingresa un número entero : ')\n",
    "x = int(input())\n",
    "if x % 5 == 0 or x % 3 == 0:\n",
    "    print('EL NÚMERO ES DIVISIBLE POR 5 O POR 3 O POR LOS DOS ....')"
   ]
  },
  {
   "cell_type": "code",
   "execution_count": 101,
   "metadata": {},
   "outputs": [
    {
     "name": "stdout",
     "output_type": "stream",
     "text": [
      "Ingresa un número entero : \n",
      "15\n",
      "EL NÚMERO ES DIVISIBLE POR 5 Y POR 3 ....\n"
     ]
    }
   ],
   "source": [
    "print('Ingresa un número entero : ')\n",
    "x = int(input())\n",
    "if x % 5 == 0 and x % 3 == 0:\n",
    "    print('EL NÚMERO ES DIVISIBLE POR 5 Y POR 3 ....')"
   ]
  },
  {
   "cell_type": "markdown",
   "metadata": {},
   "source": [
    "### if DE 2 RAMAS, if-else. EJERCICIO DE LEER 2 NÚMEROS Y CALCULAR Y VISUALIZAR LA RAÍZ CUADRADA DE SU RESTA"
   ]
  },
  {
   "cell_type": "code",
   "execution_count": 102,
   "metadata": {},
   "outputs": [
    {
     "name": "stdout",
     "output_type": "stream",
     "text": [
      "Ingresa el valor de n1:\n",
      "4\n",
      "Ingresa el valor de n2:\n",
      "2\n",
      "LA RAIZ DE n1 - n2 ES = 1.4142135623730951\n"
     ]
    }
   ],
   "source": [
    "\"\"\"\n",
    "if condición:\n",
    "    el bloque de sentencias indentado cuando la condicion es verdadera\n",
    "else:\n",
    "    las sentencias de cuando la condicion es falsa\n",
    "\"\"\"\n",
    "import math\n",
    "print('Ingresa el valor de n1:')\n",
    "n1 = float(input())\n",
    "print('Ingresa el valor de n2:')\n",
    "n2 = float(input())\n",
    "resta = n1-n2\n",
    "if resta >= 0:\n",
    "    print(\"LA RAIZ DE n1 - n2 ES = \" +str(math.sqrt(resta)))\n",
    "else:\n",
    "    print(\"NO PUEDO OBTENER LA RAIZ CUADRADA DE UN NEGATIVO\")"
   ]
  },
  {
   "cell_type": "markdown",
   "metadata": {},
   "source": [
    "### USO DE UNA PLANTILLA PARA VISUALIZAR RESULTADOS DEL EJERCICIO DE LA RAIZ CUADRADA DE LA RESTA DE DOS NÚMEROS"
   ]
  },
  {
   "cell_type": "code",
   "execution_count": 104,
   "metadata": {},
   "outputs": [
    {
     "name": "stdout",
     "output_type": "stream",
     "text": [
      "Ingresa el valor de n1:\n",
      "4\n",
      "Ingresa el valor de n2:\n",
      "2\n",
      "LA RAIZ DE 4.00 - 2.00 ES = 1.41\n"
     ]
    }
   ],
   "source": [
    "\"\"\"\n",
    "if condición:\n",
    "    el bloque de sentencias indentado cuando la condicion es verdadera\n",
    "else:\n",
    "    las sentencias de cuando la condicion es falsa\n",
    "\"\"\"\n",
    "import math\n",
    "print('Ingresa el valor de n1:')\n",
    "n1 = float(input())\n",
    "print('Ingresa el valor de n2:')\n",
    "n2 = float(input())\n",
    "resta = n1-n2\n",
    "if resta >= 0:\n",
    "    plantilla = 'LA RAIZ DE {0:.2f} - {1:.2f} ES = {2:.2f}'\n",
    "    print(plantilla.format(n1,n2,math.sqrt(resta)))\n",
    "else:\n",
    "    plantilla = 'LA RESTA {0:.2f} - {1:.2f} ES = {2:.2f}'\n",
    "    print(plantilla.format(n1,n2,resta))\n",
    "    print(\"NO PUEDO OBTENER LA RAIZ CUADRADA DE UN NEGATIVO\")"
   ]
  },
  {
   "cell_type": "markdown",
   "metadata": {},
   "source": [
    "### USO DE if's ANIDADOS if-elif. EJERCICIO DE NIÑOS, ADOLESCENTES, JOVENES Y VIEJOS"
   ]
  },
  {
   "cell_type": "code",
   "execution_count": 105,
   "metadata": {},
   "outputs": [
    {
     "name": "stdout",
     "output_type": "stream",
     "text": [
      "Ingresa una edad: \n",
      "64\n",
      "La edad corresponde a un viejo 64\n"
     ]
    }
   ],
   "source": [
    "'''\n",
    "EJ. LEE UNA EDAD DE UNA PERSONA Y VISUALIZA SI LA PERSONA ES UN NIÑO (1-11), O ES UN ADOLESCENTE (12-17), \n",
    "O ES UN JOVEN (18-63), O ES UN VIEJO (>63)\n",
    "'''\n",
    "# if-elif uso de if anidados\n",
    "print('Ingresa una edad: ')\n",
    "edad = int(input())\n",
    "if edad > 0 and edad <= 12:\n",
    "    print(\"La edad corresponde a un niño \" +str(edad))\n",
    "elif edad > 11 and edad <= 17:\n",
    "    print(\"La edad corresponde a un adolescente \" +str(edad))\n",
    "elif edad > 17 and edad <= 63:\n",
    "    print(\"La edad corresponde a un joven \" +str(edad))\n",
    "elif edad > 63:\n",
    "    print(\"La edad corresponde a un viejo \" +str(edad))"
   ]
  },
  {
   "cell_type": "markdown",
   "metadata": {},
   "source": [
    "### LA SENTENCIA pass (sentencia nula)"
   ]
  },
  {
   "cell_type": "code",
   "execution_count": 106,
   "metadata": {},
   "outputs": [
    {
     "ename": "IndentationError",
     "evalue": "expected an indented block (<ipython-input-106-fcc13dcaa3e8>, line 10)",
     "output_type": "error",
     "traceback": [
      "\u001b[1;36m  File \u001b[1;32m\"<ipython-input-106-fcc13dcaa3e8>\"\u001b[1;36m, line \u001b[1;32m10\u001b[0m\n\u001b[1;33m    elif edad > 11 and edad <= 17:\u001b[0m\n\u001b[1;37m    ^\u001b[0m\n\u001b[1;31mIndentationError\u001b[0m\u001b[1;31m:\u001b[0m expected an indented block\n"
     ]
    }
   ],
   "source": [
    "'''\n",
    "EJ. LEE UNA EDAD DE UNA PERSONA Y VISUALIZA SI LA PERSONA ES UN NIÑO (1-11), O ES UN ADOLESCENTE (12-17), \n",
    "O ES UN JOVEN (18-63), O ES UN VIEJO (>63)\n",
    "'''\n",
    "# if-elif uso de if anidados\n",
    "print('Ingresa una edad: ')\n",
    "edad = int(input())\n",
    "if edad > 0 and edad <= 12:\n",
    "    #print(\"La edad corresponde a un niño \" +str(edad))\n",
    "elif edad > 11 and edad <= 17:\n",
    "    print(\"La edad corresponde a un adolescente \" +str(edad))\n",
    "elif edad > 17 and edad <= 63:\n",
    "    print(\"La edad corresponde a un joven \" +str(edad))\n",
    "elif edad > 63:\n",
    "    print(\"La edad corresponde a un viejo \" +str(edad))"
   ]
  },
  {
   "cell_type": "code",
   "execution_count": 110,
   "metadata": {},
   "outputs": [
    {
     "name": "stdout",
     "output_type": "stream",
     "text": [
      "Ingresa una edad: \n",
      "12\n",
      "La edad corresponde a un adolescente 12\n"
     ]
    }
   ],
   "source": [
    "'''\n",
    "EJ. LEE UNA EDAD DE UNA PERSONA Y VISUALIZA SI LA PERSONA ES UN NIÑO (1-11), O ES UN ADOLESCENTE (12-17), \n",
    "O ES UN JOVEN (18-63), O ES UN VIEJO (>63)\n",
    "'''\n",
    "# if-elif uso de if anidados\n",
    "print('Ingresa una edad: ')\n",
    "edad = int(input())\n",
    "if edad > 0 and edad < 12:\n",
    "    #print(\"La edad corresponde a un niño \" +str(edad))\n",
    "    pass\n",
    "elif edad > 11 and edad <= 17:\n",
    "    print(\"La edad corresponde a un adolescente \" +str(edad))\n",
    "elif edad > 17 and edad <= 63:\n",
    "    print(\"La edad corresponde a un joven \" +str(edad))\n",
    "elif edad > 63:\n",
    "    print(\"La edad corresponde a un viejo \" +str(edad))"
   ]
  },
  {
   "cell_type": "markdown",
   "metadata": {},
   "source": [
    "# ITERACION\n",
    "\n",
    "SINTAXIS DE LAS INSTRUCCIONES DE ITERACIÓN while Y for"
   ]
  },
  {
   "cell_type": "code",
   "execution_count": 111,
   "metadata": {},
   "outputs": [
    {
     "data": {
      "text/plain": [
       "'\\nSENTENCIAS DE ITERACION: while Y for\\n\\nwhile condición:\\n    instr1\\n    instr2\\n    ...\\n    instrn\\n    \\ncontinue para interrumpir el ciclo de manera que se vuelva a iterar\\nbreak termina con el ciclo\\n\\nfor valor in coleccion o iterador:\\n    instr1\\n    instr2\\n    ...\\n    instrn\\n    \\ngeneralmente vas a trabajar en cada ciclo con el valor\\n\\nuna colección en python es una tupla, una lista, un diccionario\\nel iterador pues el más usado es range(inicio, fin, paso)\\nrange(0,10,1) ,  range(10), range(5,20)\\n'"
      ]
     },
     "execution_count": 111,
     "metadata": {},
     "output_type": "execute_result"
    }
   ],
   "source": [
    "\"\"\"\n",
    "SENTENCIAS DE ITERACION: while Y for\n",
    "\n",
    "while condición:\n",
    "    instr1\n",
    "    instr2\n",
    "    ...\n",
    "    instrn\n",
    "    \n",
    "continue para interrumpir el ciclo de manera que se vuelva a iterar\n",
    "break termina con el ciclo\n",
    "\n",
    "for valor in coleccion o iterador:\n",
    "    instr1\n",
    "    instr2\n",
    "    ...\n",
    "    instrn\n",
    "    \n",
    "generalmente vas a trabajar en cada ciclo con el valor\n",
    "\n",
    "una colección en python es una tupla, una lista, un diccionario\n",
    "el iterador pues el más usado es range(inicio, fin, paso)\n",
    "range(0,10,1) ,  range(10), range(5,20)\n",
    "\"\"\""
   ]
  },
  {
   "cell_type": "code",
   "execution_count": 112,
   "metadata": {},
   "outputs": [
    {
     "name": "stdout",
     "output_type": "stream",
     "text": [
      "Ingresa una edad: \n",
      "23\n",
      "OTRA EDAD? S/N:\n",
      "S\n",
      "Ingresa una edad: \n",
      "14\n",
      "OTRA EDAD? S/N:\n",
      "S\n",
      "Ingresa una edad: \n",
      "68\n",
      "OTRA EDAD? S/N:\n",
      "S\n",
      "Ingresa una edad: \n",
      "1\n",
      "OTRA EDAD? S/N:\n",
      "S\n",
      "Ingresa una edad: \n",
      "-4\n",
      "LA EDAD QUE INGRESASTE NO ES VÁLIDA: -4\n",
      "OTRA EDAD? S/N:\n",
      "S\n",
      "Ingresa una edad: \n",
      "39\n",
      "OTRA EDAD? S/N:\n",
      "N\n",
      "DE LAS EDADDES LEIDAS TENEMOS QUE:\n",
      "\n",
      "\n",
      "1 FUERON NIÑOS\n",
      "1 FUERON ADOLESCENTES\n",
      "2 FUERON JOVENES\n",
      "1 FUERON VIEJOS\n"
     ]
    }
   ],
   "source": [
    "\"\"\"\n",
    "EJERCICIO: \n",
    "\n",
    "EFECTUAR LECTURAS DE EDADES DE PERSONAS HASTA QUE EL USUARIO ASÍ LO REQUIERA. SE SABE QUE LA PERSONA ES ES UN NIÑO SI SU\n",
    "EDAD ESTÁ EN EL RANGO DE (1-11), O ES UN ADOLESCENTE (12-17), O ES UN JOVEN (18-63), O ES UN VIEJO (>63). CALCULAR Y \n",
    "VISUALIZAR CUANTAS DE LAS PERSONAS CUYAS EDADES SE LEYERON SON NIÑOS, CUANTOS SON ADOLESCENTES, CUANTOS SON JOVENES Y \n",
    "CUANTOS SON VIEJOS. INDICA ADEMÁS CUANDO UNA EDAD LEÍDA NO ES VÁLIDA.\n",
    "\"\"\"\n",
    "niños = 0\n",
    "adoles = 0\n",
    "jovenes = 0\n",
    "viejos = 0\n",
    "\n",
    "while True:\n",
    "    print(\"Ingresa una edad: \")\n",
    "    edad = int(input())\n",
    "    if edad <= 0:\n",
    "        print(\"LA EDAD QUE INGRESASTE NO ES VÁLIDA: \" +str(edad))\n",
    "    elif edad <= 11:\n",
    "        niños+=1\n",
    "    elif edad <= 17:\n",
    "        adoles+=1\n",
    "    elif edad <= 63:\n",
    "        jovenes+=1\n",
    "    else:\n",
    "        viejos+=1\n",
    "        \n",
    "    print(\"OTRA EDAD? S/N:\")\n",
    "    sigues = input()\n",
    "    if sigues == \"N\":\n",
    "        break\n",
    "\n",
    "print(\"DE LAS EDADDES LEIDAS TENEMOS QUE:\\n\\n\")\n",
    "print(str(niños)+' FUERON NIÑOS')\n",
    "print(str(adoles)+' FUERON ADOLESCENTES')\n",
    "print(str(jovenes)+' FUERON JOVENES')\n",
    "print(str(viejos)+' FUERON VIEJOS')  "
   ]
  },
  {
   "cell_type": "code",
   "execution_count": 1,
   "metadata": {},
   "outputs": [
    {
     "name": "stdout",
     "output_type": "stream",
     "text": [
      "0\n",
      "1\n",
      "2\n",
      "3\n",
      "4\n",
      "5\n",
      "6\n",
      "7\n",
      "8\n",
      "9\n"
     ]
    }
   ],
   "source": [
    "'''\n",
    "ITERADOR range(inicial,final,paso)\n",
    "for valor i in colección o iterador:\n",
    "    intr1\n",
    "    \n",
    "'''\n",
    "\n",
    "for i in range(10):\n",
    "    print(i)"
   ]
  },
  {
   "cell_type": "code",
   "execution_count": 3,
   "metadata": {},
   "outputs": [
    {
     "name": "stdout",
     "output_type": "stream",
     "text": [
      "0\n",
      "1\n",
      "2\n",
      "3\n",
      "4\n",
      "5\n",
      "6\n",
      "7\n",
      "8\n",
      "9\n",
      "10\n"
     ]
    }
   ],
   "source": [
    "for i in range(11):\n",
    "    print(i)"
   ]
  },
  {
   "cell_type": "code",
   "execution_count": 4,
   "metadata": {},
   "outputs": [
    {
     "name": "stdout",
     "output_type": "stream",
     "text": [
      "1\n",
      "2\n",
      "3\n",
      "4\n",
      "5\n",
      "6\n",
      "7\n",
      "8\n",
      "9\n",
      "10\n",
      "11\n",
      "12\n",
      "13\n",
      "14\n",
      "15\n"
     ]
    }
   ],
   "source": [
    "for i in range(1, 16):\n",
    "    print(i)"
   ]
  },
  {
   "cell_type": "code",
   "execution_count": 5,
   "metadata": {},
   "outputs": [
    {
     "name": "stdout",
     "output_type": "stream",
     "text": [
      "0\n",
      "2\n",
      "4\n",
      "6\n",
      "8\n"
     ]
    }
   ],
   "source": [
    "for i in range(0, 10, 2):\n",
    "    print(i)"
   ]
  },
  {
   "cell_type": "code",
   "execution_count": 6,
   "metadata": {},
   "outputs": [
    {
     "name": "stdout",
     "output_type": "stream",
     "text": [
      "10\n",
      "9\n",
      "8\n",
      "7\n",
      "6\n",
      "5\n",
      "4\n",
      "3\n",
      "2\n"
     ]
    }
   ],
   "source": [
    "for i in range(10, 1, -1):\n",
    "    print(i)"
   ]
  },
  {
   "cell_type": "code",
   "execution_count": 7,
   "metadata": {},
   "outputs": [
    {
     "name": "stdout",
     "output_type": "stream",
     "text": [
      "10\n",
      "7\n",
      "4\n",
      "1\n",
      "-2\n",
      "-5\n",
      "-8\n"
     ]
    }
   ],
   "source": [
    "for i in range(10, -10, -3):\n",
    "    print(i)"
   ]
  },
  {
   "cell_type": "code",
   "execution_count": 1,
   "metadata": {},
   "outputs": [
    {
     "name": "stdout",
     "output_type": "stream",
     "text": [
      "10\n",
      "7\n",
      "4\n",
      "1\n",
      "-2\n",
      "-5\n",
      "-8\n",
      "-11\n"
     ]
    }
   ],
   "source": [
    "for i in range(10, -12, -3):\n",
    "    print(i)"
   ]
  },
  {
   "cell_type": "code",
   "execution_count": 3,
   "metadata": {},
   "outputs": [
    {
     "name": "stdout",
     "output_type": "stream",
     "text": [
      "INGRESA EL VALOR DE n: 1\n",
      "LA SUMA DE LOS PRIMEROS 1 NUMEROS NATURALES ES =  1\n",
      "USAR OTRA VEZ? S/N: S\n",
      "INGRESA EL VALOR DE n: 2\n",
      "LA SUMA DE LOS PRIMEROS 2 NUMEROS NATURALES ES =  3\n",
      "USAR OTRA VEZ? S/N: s\n",
      "INGRESA EL VALOR DE n: 3\n",
      "LA SUMA DE LOS PRIMEROS 3 NUMEROS NATURALES ES =  6\n",
      "USAR OTRA VEZ? S/N: N\n"
     ]
    }
   ],
   "source": [
    "'''\n",
    "EJERCICIO:\n",
    "\n",
    "CALCULA Y VISUALIZA LA SUMA DE LOS PRIMEROS n NÚMEROS NATURALES. EL VALOR DE n SE LEE Y ES MAYOR QUE 0. \n",
    "PERMITE AL USUARIO UTILIZAR TU ALGORITMO LAS VECES QUE EL QUIERA\n",
    "\n",
    "n = 1\n",
    "suma = 1\n",
    "..........\n",
    "n = 2\n",
    "suma = 1 + 2\n",
    "..........\n",
    "n = 3\n",
    "suma = 1 + 2 + 3\n",
    "\n",
    "'''\n",
    "\n",
    "# MI SOLUCION\n",
    "while True:\n",
    "    suma = 0\n",
    "    n = int(input(\"INGRESA EL VALOR DE n: \"))\n",
    "\n",
    "    for i in range(n + 1):\n",
    "        suma+=i;\n",
    "\n",
    "    print(\"LA SUMA DE LOS PRIMEROS\", n, \"NUMEROS NATURALES ES = \", suma)\n",
    "    \n",
    "    sigues = input(\"USAR OTRA VEZ? S/N: \")\n",
    "    if sigues == \"N\":\n",
    "        break"
   ]
  },
  {
   "cell_type": "code",
   "execution_count": 4,
   "metadata": {},
   "outputs": [
    {
     "name": "stdout",
     "output_type": "stream",
     "text": [
      "INGRESA EL VALOR DE n:\n",
      "3\n",
      "La suma de los primeros 3 es = 6\n",
      "OTRO VALOR DE n, S/N:?\n",
      "S\n",
      "INGRESA EL VALOR DE n:\n",
      "100\n",
      "La suma de los primeros 100 es = 5050\n",
      "OTRO VALOR DE n, S/N:?\n",
      "N\n"
     ]
    }
   ],
   "source": [
    "#Solución video\n",
    "while True:\n",
    "    print(\"INGRESA EL VALOR DE n:\")\n",
    "    n = int(input())\n",
    "    suma = 0\n",
    "    for i in range(1, n+1):\n",
    "        suma+=i\n",
    "    print(\"La suma de los primeros \" +str(n) + \" es = \" +str(suma))\n",
    "    \n",
    "    print(\"OTRO VALOR DE n, S/N:?\")\n",
    "    sigues = input()\n",
    "    if sigues == 'N':\n",
    "        break"
   ]
  },
  {
   "cell_type": "markdown",
   "metadata": {},
   "source": [
    "### SOLUCION AL EJERCICIO DE LOS PRIMEROS NÚMEROS NATURALES USANDO while"
   ]
  },
  {
   "cell_type": "code",
   "execution_count": 1,
   "metadata": {},
   "outputs": [
    {
     "name": "stdout",
     "output_type": "stream",
     "text": [
      "INGRESA EL VALOR DE n:\n",
      "1\n",
      "La suma de los primeros 1 es = 1\n",
      "OTRO VALOR DE n, S/N:?\n",
      "S\n",
      "INGRESA EL VALOR DE n:\n",
      "6\n",
      "La suma de los primeros 6 es = 21\n",
      "OTRO VALOR DE n, S/N:?\n",
      "S\n",
      "INGRESA EL VALOR DE n:\n",
      "3\n",
      "La suma de los primeros 3 es = 6\n",
      "OTRO VALOR DE n, S/N:?\n",
      "S\n",
      "INGRESA EL VALOR DE n:\n",
      "100\n",
      "La suma de los primeros 100 es = 5050\n",
      "OTRO VALOR DE n, S/N:?\n",
      "N\n"
     ]
    }
   ],
   "source": [
    "while True:\n",
    "    print(\"INGRESA EL VALOR DE n:\")\n",
    "    n = int(input())\n",
    "    suma = 0\n",
    "    i = 0\n",
    "    \n",
    "    while i < n:\n",
    "        i += 1\n",
    "        suma += i\n",
    "        \n",
    "    print(\"La suma de los primeros \" +str(n) + \" es = \" +str(suma))\n",
    "    \n",
    "    print(\"OTRO VALOR DE n, S/N:?\")\n",
    "    sigues = input()\n",
    "    if sigues == 'N':\n",
    "        break"
   ]
  },
  {
   "cell_type": "markdown",
   "metadata": {},
   "source": [
    "### EJERCICIO\n",
    "\n",
    "EFECTUA LA LECTURA DE UNA CADENA Y VISUALIZA CUANTAS VOCALES TIENE. PERMITE QUE EL USUARIO EJECUTE TU ALGORITMO CUANTAS VECES LO REQUIERA"
   ]
  },
  {
   "cell_type": "code",
   "execution_count": 7,
   "metadata": {},
   "outputs": [
    {
     "name": "stdout",
     "output_type": "stream",
     "text": [
      "Ingresa una cadena: HOLA MUNDO\n",
      "Hay 4 vocales en la cadena HOLA MUNDO\n",
      "¿Quiéres continuar con el programa? S/N: N\n"
     ]
    }
   ],
   "source": [
    "# Mi solución\n",
    "continuar = \"S\"\n",
    "while continuar.lower() == \"s\":\n",
    "    c = 0\n",
    "    cadena = input(\"Ingresa una cadena: \")\n",
    "    for i in cadena:\n",
    "        if i.lower() == 'a' or i.lower() == 'e' or i.lower() == 'i' or i.lower() == 'o' or i.lower() == 'u':\n",
    "            c += 1\n",
    "    \n",
    "    print(\"Hay\", c, \"vocales en la cadena\", cadena)\n",
    "    \n",
    "    continuar = input(\"¿Quiéres continuar con el programa? S/N: \")\n",
    "        "
   ]
  },
  {
   "cell_type": "code",
   "execution_count": 8,
   "metadata": {},
   "outputs": [
    {
     "name": "stdout",
     "output_type": "stream",
     "text": [
      "Ingresa una cadena:\n",
      "HOLA MUNDO\n",
      "La cadena: \n",
      "HOLA MUNDO\n",
      "tiene 4 vocales\n",
      "Otra cadena ? S/N:\n",
      "S\n",
      "Ingresa una cadena:\n",
      "SANTIAGO ANDRES\n",
      "La cadena: \n",
      "SANTIAGO ANDRES\n",
      "tiene 6 vocales\n",
      "Otra cadena ? S/N:\n",
      "S\n",
      "Ingresa una cadena:\n",
      "EVAN\n",
      "La cadena: \n",
      "EVAN\n",
      "tiene 2 vocales\n",
      "Otra cadena ? S/N:\n",
      "S\n",
      "Ingresa una cadena:\n",
      "DANIELA\n",
      "La cadena: \n",
      "DANIELA\n",
      "tiene 4 vocales\n",
      "Otra cadena ? S/N:\n",
      "N\n"
     ]
    }
   ],
   "source": [
    "#Solución video\n",
    "while True:\n",
    "    print(\"Ingresa una cadena:\")\n",
    "    cadena = input()\n",
    "    noVocales = 0\n",
    "    for i in range(len(cadena)):\n",
    "        if cadena[i] in 'AEIOUaeiou':\n",
    "            noVocales+=1;\n",
    "    print('La cadena: \\n' +cadena +'\\ntiene ' +str(noVocales) +' vocales')\n",
    "    print(\"Otra cadena ? S/N:\")\n",
    "    sigues = input()\n",
    "    if sigues == 'N':\n",
    "        break"
   ]
  },
  {
   "cell_type": "markdown",
   "metadata": {},
   "source": [
    "### EJERCICIO\n",
    "\n",
    "CALCULA Y VISUALIZA EL SENO Y COSENO DE LOS ÁNGULOS EN EL INTERVALO DE 0 A 90 GRADOS\n",
    "\n",
    "180 grados = PI radianes\n",
    "\n",
    "x grados = r radianes"
   ]
  },
  {
   "cell_type": "code",
   "execution_count": 9,
   "metadata": {},
   "outputs": [
    {
     "name": "stdout",
     "output_type": "stream",
     "text": [
      " 0  -   0.0000   =   1.0000\n",
      " 1  -   0.0175   =   0.9998\n",
      " 2  -   0.0349   =   0.9994\n",
      " 3  -   0.0523   =   0.9986\n",
      " 4  -   0.0698   =   0.9976\n",
      " 5  -   0.0872   =   0.9962\n",
      " 6  -   0.1045   =   0.9945\n",
      " 7  -   0.1219   =   0.9925\n",
      " 8  -   0.1392   =   0.9903\n",
      " 9  -   0.1564   =   0.9877\n",
      "10  -   0.1736   =   0.9848\n",
      "11  -   0.1908   =   0.9816\n",
      "12  -   0.2079   =   0.9781\n",
      "13  -   0.2250   =   0.9744\n",
      "14  -   0.2419   =   0.9703\n",
      "15  -   0.2588   =   0.9659\n",
      "16  -   0.2756   =   0.9613\n",
      "17  -   0.2924   =   0.9563\n",
      "18  -   0.3090   =   0.9511\n",
      "19  -   0.3256   =   0.9455\n",
      "20  -   0.3420   =   0.9397\n",
      "21  -   0.3584   =   0.9336\n",
      "22  -   0.3746   =   0.9272\n",
      "23  -   0.3907   =   0.9205\n",
      "24  -   0.4067   =   0.9135\n",
      "25  -   0.4226   =   0.9063\n",
      "26  -   0.4384   =   0.8988\n",
      "27  -   0.4540   =   0.8910\n",
      "28  -   0.4695   =   0.8829\n",
      "29  -   0.4848   =   0.8746\n",
      "30  -   0.5000   =   0.8660\n",
      "31  -   0.5150   =   0.8572\n",
      "32  -   0.5299   =   0.8480\n",
      "33  -   0.5446   =   0.8387\n",
      "34  -   0.5592   =   0.8290\n",
      "35  -   0.5736   =   0.8192\n",
      "36  -   0.5878   =   0.8090\n",
      "37  -   0.6018   =   0.7986\n",
      "38  -   0.6157   =   0.7880\n",
      "39  -   0.6293   =   0.7771\n",
      "40  -   0.6428   =   0.7660\n",
      "41  -   0.6561   =   0.7547\n",
      "42  -   0.6691   =   0.7431\n",
      "43  -   0.6820   =   0.7314\n",
      "44  -   0.6947   =   0.7193\n",
      "45  -   0.7071   =   0.7071\n",
      "46  -   0.7193   =   0.6947\n",
      "47  -   0.7314   =   0.6820\n",
      "48  -   0.7431   =   0.6691\n",
      "49  -   0.7547   =   0.6561\n",
      "50  -   0.7660   =   0.6428\n",
      "51  -   0.7771   =   0.6293\n",
      "52  -   0.7880   =   0.6157\n",
      "53  -   0.7986   =   0.6018\n",
      "54  -   0.8090   =   0.5878\n",
      "55  -   0.8192   =   0.5736\n",
      "56  -   0.8290   =   0.5592\n",
      "57  -   0.8387   =   0.5446\n",
      "58  -   0.8480   =   0.5299\n",
      "59  -   0.8572   =   0.5150\n",
      "60  -   0.8660   =   0.5000\n",
      "61  -   0.8746   =   0.4848\n",
      "62  -   0.8829   =   0.4695\n",
      "63  -   0.8910   =   0.4540\n",
      "64  -   0.8988   =   0.4384\n",
      "65  -   0.9063   =   0.4226\n",
      "66  -   0.9135   =   0.4067\n",
      "67  -   0.9205   =   0.3907\n",
      "68  -   0.9272   =   0.3746\n",
      "69  -   0.9336   =   0.3584\n",
      "70  -   0.9397   =   0.3420\n",
      "71  -   0.9455   =   0.3256\n",
      "72  -   0.9511   =   0.3090\n",
      "73  -   0.9563   =   0.2924\n",
      "74  -   0.9613   =   0.2756\n",
      "75  -   0.9659   =   0.2588\n",
      "76  -   0.9703   =   0.2419\n",
      "77  -   0.9744   =   0.2250\n",
      "78  -   0.9781   =   0.2079\n",
      "79  -   0.9816   =   0.1908\n",
      "80  -   0.9848   =   0.1736\n",
      "81  -   0.9877   =   0.1564\n",
      "82  -   0.9903   =   0.1392\n",
      "83  -   0.9925   =   0.1219\n",
      "84  -   0.9945   =   0.1045\n",
      "85  -   0.9962   =   0.0872\n",
      "86  -   0.9976   =   0.0698\n",
      "87  -   0.9986   =   0.0523\n",
      "88  -   0.9994   =   0.0349\n",
      "89  -   0.9998   =   0.0175\n",
      "90  -   1.0000   =   0.0000\n"
     ]
    }
   ],
   "source": [
    "# Solución video\n",
    "import math\n",
    "for angulo in range(91):\n",
    "    radianes = angulo * math.pi / 180\n",
    "    seno = math.sin(radianes)\n",
    "    coseno = math.cos(radianes)\n",
    "    print('{0:2d}  -   {1:.4f}   =   {2:.4f}'.format(angulo, seno, coseno))"
   ]
  },
  {
   "cell_type": "code",
   "execution_count": null,
   "metadata": {},
   "outputs": [],
   "source": []
  }
 ],
 "metadata": {
  "kernelspec": {
   "display_name": "Python 3",
   "language": "python",
   "name": "python3"
  },
  "language_info": {
   "codemirror_mode": {
    "name": "ipython",
    "version": 3
   },
   "file_extension": ".py",
   "mimetype": "text/x-python",
   "name": "python",
   "nbconvert_exporter": "python",
   "pygments_lexer": "ipython3",
   "version": "3.8.5"
  }
 },
 "nbformat": 4,
 "nbformat_minor": 4
}
